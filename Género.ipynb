{
  "nbformat": 4,
  "nbformat_minor": 0,
  "metadata": {
    "colab": {
      "provenance": [],
      "authorship_tag": "ABX9TyNPskX1g+ZR0+uHK2LnUfPg",
      "include_colab_link": true
    },
    "kernelspec": {
      "name": "python3",
      "display_name": "Python 3"
    },
    "language_info": {
      "name": "python"
    }
  },
  "cells": [
    {
      "cell_type": "markdown",
      "metadata": {
        "id": "view-in-github",
        "colab_type": "text"
      },
      "source": [
        "<a href=\"https://colab.research.google.com/github/Amanda0975/MT/blob/main/G%C3%A9nero.ipynb\" target=\"_parent\"><img src=\"https://colab.research.google.com/assets/colab-badge.svg\" alt=\"Open In Colab\"/></a>"
      ]
    },
    {
      "cell_type": "markdown",
      "source": [
        "#Setup"
      ],
      "metadata": {
        "id": "QTKebIRTmA4o"
      }
    },
    {
      "cell_type": "code",
      "execution_count": 59,
      "metadata": {
        "id": "j99ZUM_5lkjh"
      },
      "outputs": [],
      "source": [
        "import pandas as pd\n",
        "from IPython.display import display\n",
        "\n",
        "df = pd.read_excel(\"https://github.com/Amanda0975/MT/raw/main/raw/estimaciones-y-proyecciones-2002-2035-comunas.xlsx\")\n",
        "df=df.drop(columns=[\"Nombre Region\", \"Provincia\", \"Nombre Provincia\",\"Poblacion 2017\",\"Comuna\"])\n",
        "df=df.rename(columns={\"Nombre Comuna\": \"Comuna\"})\n",
        "df=df.rename(columns={\"Region\": \"region_id\"})\n",
        "df=df[df['Edad'] >= 18]"
      ]
    },
    {
      "cell_type": "code",
      "source": [
        "df=df.groupby([\"region_id\", \"Comuna\", \"Sexo\\n1=Hombre\\n2=Mujer\"]).agg({\"Poblacion 2021\": \"sum\", \"Poblacion 2022\": \"sum\"}).reset_index()"
      ],
      "metadata": {
        "id": "9y_y1NcJnTqg"
      },
      "execution_count": 60,
      "outputs": []
    },
    {
      "cell_type": "code",
      "source": [
        "#Creación columnas de sumatoria\n",
        "df['SUM Población 2021'] = df.groupby('Comuna')['Poblacion 2021'].transform('sum')\n",
        "df['SUM Población 2022'] = df.groupby('Comuna')['Poblacion 2022'].transform('sum')"
      ],
      "metadata": {
        "id": "IBvBuriuolVU"
      },
      "execution_count": 61,
      "outputs": []
    },
    {
      "cell_type": "code",
      "source": [
        "#Cálculo proporción por género del electorado\n",
        "df[\"Poblacion 2021\"] = df[\"Poblacion 2021\"]/df[\"SUM Población 2021\"]\n",
        "df[\"Poblacion 2022\"] = df[\"Poblacion 2022\"]/df[\"SUM Población 2022\"]"
      ],
      "metadata": {
        "id": "fCs1nppKrAAp"
      },
      "execution_count": 62,
      "outputs": []
    },
    {
      "cell_type": "code",
      "source": [
        "#Eliminar columna de sumatorias\n",
        "df=df.drop(columns=[\"SUM Población 2021\", \"SUM Población 2022\"])"
      ],
      "metadata": {
        "id": "kusRMGwArW98"
      },
      "execution_count": 63,
      "outputs": []
    },
    {
      "cell_type": "code",
      "source": [
        "# Crear columnas desagregadas por género para Poblacion 2021 y Poblacion 2022\n",
        "df['Poblacion 2021_hombre'] = df.loc[df['Sexo\\n1=Hombre\\n2=Mujer'] == 1, 'Poblacion 2021']\n",
        "df['Poblacion 2021_mujer'] = df.loc[df['Sexo\\n1=Hombre\\n2=Mujer'] == 2, 'Poblacion 2021']\n",
        "df['Poblacion 2022_hombre'] = df.loc[df['Sexo\\n1=Hombre\\n2=Mujer'] == 1, 'Poblacion 2022']\n",
        "df['Poblacion 2022_mujer'] = df.loc[df['Sexo\\n1=Hombre\\n2=Mujer'] == 2, 'Poblacion 2022']\n"
      ],
      "metadata": {
        "id": "caxI5Rs3sYhp"
      },
      "execution_count": 64,
      "outputs": []
    },
    {
      "cell_type": "code",
      "source": [
        "df.drop(columns='Sexo\\n1=Hombre\\n2=Mujer', inplace=True)\n",
        "\n",
        "# Agrupar por 'Comuna' y sumar las poblaciones desagregadas por género y año\n",
        "df = df.groupby('Comuna').agg({'Poblacion 2021_hombre':'sum',\n",
        "                               'Poblacion 2021_mujer':'sum',\n",
        "                               'Poblacion 2022_hombre':'sum',\n",
        "                               'Poblacion 2022_mujer':'sum'}).reset_index()\n",
        "\n",
        "# Convertir los valores NaN a 0\n",
        "df.fillna(0, inplace=True)"
      ],
      "metadata": {
        "id": "xZEdBMEiuE4O"
      },
      "execution_count": 65,
      "outputs": []
    },
    {
      "cell_type": "code",
      "source": [
        "data=pd.merge(df1,df,on=\"Comuna\",how=\"right\")"
      ],
      "metadata": {
        "id": "HJcUwEy1vJ_g"
      },
      "execution_count": 66,
      "outputs": []
    },
    {
      "cell_type": "code",
      "source": [
        "data.nunique()"
      ],
      "metadata": {
        "colab": {
          "base_uri": "https://localhost:8080/"
        },
        "id": "CmgLyeqmw9uP",
        "outputId": "9738c5ed-bcc9-4b1e-d42b-cb878ed97f45"
      },
      "execution_count": 68,
      "outputs": [
        {
          "output_type": "execute_result",
          "data": {
            "text/plain": [
              "Comuna                     346\n",
              "Poblacion 2021_hombre_x    346\n",
              "Poblacion 2021_mujer_x     346\n",
              "Poblacion 2022_hombre_x    346\n",
              "Poblacion 2022_mujer_x     346\n",
              "Poblacion 2021_hombre_y    346\n",
              "Poblacion 2021_mujer_y     346\n",
              "Poblacion 2022_hombre_y    346\n",
              "Poblacion 2022_mujer_y     346\n",
              "dtype: int64"
            ]
          },
          "metadata": {},
          "execution_count": 68
        }
      ]
    },
    {
      "cell_type": "code",
      "source": [
        "data=data.drop(columns=[\"Poblacion 2021_hombre_y\",\"Poblacion 2021_mujer_y\",\"Poblacion 2022_hombre_y\",\"Poblacion 2022_mujer_y\"])\n",
        "data=data.rename(columns={\"Poblacion 2021_hombre_x\": \"Poblacion 2021_hombre\"})\n",
        "data=data.rename(columns={\"Poblacion 2021_mujer_x\": \"Poblacion 2021_mujer\"})\n",
        "data=data.rename(columns={\"Poblacion 2022_hombre_x\": \"Poblacion 2022_hombre\"})\n",
        "data=data.rename(columns={\"Poblacion 2022_mujer_x\": \"Poblacion 2022_mujer\"})"
      ],
      "metadata": {
        "id": "gmhFUR6ivmrd"
      },
      "execution_count": 69,
      "outputs": []
    },
    {
      "cell_type": "markdown",
      "source": [
        "#Exportar"
      ],
      "metadata": {
        "id": "lXnUkq97xOzY"
      }
    },
    {
      "cell_type": "code",
      "source": [
        "#Exportar .csv\n",
        "data.to_csv('Género.csv', index=False)"
      ],
      "metadata": {
        "id": "3Th1z5u0xSN1"
      },
      "execution_count": 72,
      "outputs": []
    }
  ]
}
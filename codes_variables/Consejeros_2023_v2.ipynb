{
  "nbformat": 4,
  "nbformat_minor": 0,
  "metadata": {
    "colab": {
      "provenance": [],
      "authorship_tag": "ABX9TyM3IwZDBaBBrvM9Jx8iAIjF",
      "include_colab_link": true
    },
    "kernelspec": {
      "name": "python3",
      "display_name": "Python 3"
    },
    "language_info": {
      "name": "python"
    }
  },
  "cells": [
    {
      "cell_type": "markdown",
      "metadata": {
        "id": "view-in-github",
        "colab_type": "text"
      },
      "source": [
        "<a href=\"https://colab.research.google.com/github/Amanda0975/MT/blob/main/Consejeros_2023_v2.ipynb\" target=\"_parent\"><img src=\"https://colab.research.google.com/assets/colab-badge.svg\" alt=\"Open In Colab\"/></a>"
      ]
    },
    {
      "cell_type": "markdown",
      "source": [
        "#Setup"
      ],
      "metadata": {
        "id": "MozsXtjr1MJq"
      }
    },
    {
      "cell_type": "code",
      "execution_count": 125,
      "metadata": {
        "id": "hejh4XtZwxkk"
      },
      "outputs": [],
      "source": [
        "import requests\n",
        "import pandas as pd\n",
        "\n",
        "df = pd.read_excel(\"https://github.com/Amanda0975/MT/raw/main/raw/Consejero_2023_raw.xlsx\")"
      ]
    },
    {
      "cell_type": "code",
      "source": [
        "#Crear columna que suma los votos por comuna\n",
        "df1=df[['Comuna','Votos']].copy()\n",
        "df1=df1.groupby('Comuna').sum().reset_index().drop_duplicates()\n",
        "df=pd.merge(df, df1, on=\"Comuna\")\n",
        "\n",
        "#Rename columnas\n",
        "df=df.rename(columns={'Nro.Región': 'region_id'})\n",
        "df=df.rename(columns={'Votos_x': 'Votos'})\n",
        "df=df.rename(columns={'Votos_y': 'Total'})"
      ],
      "metadata": {
        "id": "3ujE_uNr1Rgd"
      },
      "execution_count": 126,
      "outputs": []
    },
    {
      "cell_type": "code",
      "source": [
        "#Cantidad de votos por pacto en cada comuna\n",
        "df2=df[['Comuna','Votos','Pacto']].copy()\n",
        "df2['Votos pacto'] = df2.groupby(['Comuna', 'Pacto'])['Votos'].transform('sum')\n",
        "df=pd.merge(df, df2, on=[\"Comuna\",'Votos','Pacto']).drop_duplicates()"
      ],
      "metadata": {
        "id": "R5wT4ssJ1rXp"
      },
      "execution_count": 127,
      "outputs": []
    },
    {
      "cell_type": "markdown",
      "source": [
        "##Votos derecha"
      ],
      "metadata": {
        "id": "bsmoElr5P3Ju"
      }
    },
    {
      "cell_type": "code",
      "source": [
        "#Checkpoint\n",
        "df1=df.copy()"
      ],
      "metadata": {
        "id": "-Z7Ke99R366u"
      },
      "execution_count": 128,
      "outputs": []
    },
    {
      "cell_type": "code",
      "source": [
        "#Votos derecha\n",
        "Derecha = ['CHILE SEGURO','PARTIDO REPUBLICANO DE CHILE']\n",
        "\n",
        "# Copia del DataFrame con las columnas 'Comuna', 'Votos pacto' y 'Pacto'\n",
        "df2 = df1[['Comuna', 'Votos pacto', 'Pacto']].copy()\n",
        "\n",
        "# Filtrar las filas donde el pacto está en la lista derecha\n",
        "df2 = df2[df2['Pacto'].isin(Derecha)].drop_duplicates()\n",
        "\n",
        "#Columna nueva que agrupa por pacto derecha\n",
        "df2['Votos derecha'] = df2.groupby('Comuna')['Votos pacto'].transform('sum').drop_duplicates()"
      ],
      "metadata": {
        "id": "xl5n0PiQ380K"
      },
      "execution_count": 129,
      "outputs": []
    },
    {
      "cell_type": "code",
      "source": [
        "#Database de votos de derecha por comuna\n",
        "df_derecha = df2[['Comuna','Votos derecha']].copy().drop_duplicates().dropna()"
      ],
      "metadata": {
        "id": "zp0LFojlOBfE"
      },
      "execution_count": 130,
      "outputs": []
    },
    {
      "cell_type": "markdown",
      "source": [
        "##Votos PDG"
      ],
      "metadata": {
        "id": "ZrlCHXscP6IN"
      }
    },
    {
      "cell_type": "code",
      "source": [
        "#Checkpoint\n",
        "df1=df.copy()"
      ],
      "metadata": {
        "id": "zsvy_VWqP-Ye"
      },
      "execution_count": 131,
      "outputs": []
    },
    {
      "cell_type": "code",
      "source": [
        "PDG = ['PARTIDO DE LA GENTE']\n",
        "\n",
        "# Copia del DataFrame con las columnas 'Comuna', 'Votos pacto' y 'Pacto'\n",
        "df2 = df1[['Comuna', 'Votos pacto', 'Pacto']].copy()\n",
        "\n",
        "# Filtrar las filas donde el pacto está en la lista derecha y PDG\n",
        "df2 = df2[df2['Pacto'].isin(PDG)]"
      ],
      "metadata": {
        "id": "O8nZcXZq6mUv"
      },
      "execution_count": 132,
      "outputs": []
    },
    {
      "cell_type": "code",
      "source": [
        "#Asignar valores a columna nueva ¨Votos PDG¨\n",
        "df2['Votos PDG']=df2['Votos pacto']\n",
        "\n",
        "#Database para PDG\n",
        "df_PDG=df2[['Comuna','Votos PDG']].copy().drop_duplicates().dropna()"
      ],
      "metadata": {
        "id": "fggHkndyQajF"
      },
      "execution_count": 133,
      "outputs": []
    },
    {
      "cell_type": "markdown",
      "source": [
        "##Merge ambos database"
      ],
      "metadata": {
        "id": "DRyXYiEXREQF"
      }
    },
    {
      "cell_type": "code",
      "source": [
        "#Merge en un dataset\n",
        "df=df1[['region_id','Comuna','Total']].copy().drop_duplicates()\n",
        "df=pd.merge(df,df_derecha,on='Comuna',how='left').drop_duplicates()\n",
        "\n",
        "df=pd.merge(df,df_PDG,on='Comuna',how='left').drop_duplicates()\n",
        "df[\"Votos derecha\"] = df[\"Votos derecha\"].fillna(0)\n",
        "df[\"Votos PDG\"] = df[\"Votos PDG\"].fillna(0)"
      ],
      "metadata": {
        "id": "E5aZAm9VRHeC"
      },
      "execution_count": 142,
      "outputs": []
    },
    {
      "cell_type": "code",
      "source": [
        "#Porcentaje por categoría de voto\n",
        "df['Votos derecha'] = df['Votos derecha'] / df['Total']\n",
        "df['Votos PDG'] = df['Votos PDG'] / df['Total']\n",
        "\n",
        "df=df[['region_id','Comuna',\"Votos derecha\",\"Votos PDG\"]].copy().drop_duplicates()"
      ],
      "metadata": {
        "id": "nwlgLFJrbG8C"
      },
      "execution_count": 145,
      "outputs": []
    },
    {
      "cell_type": "markdown",
      "source": [
        "#Exportar"
      ],
      "metadata": {
        "id": "rthDb2i1bfAd"
      }
    },
    {
      "cell_type": "code",
      "source": [
        "df.to_csv('Consejeros_2023.csv', index=False)"
      ],
      "metadata": {
        "id": "TnJrW3mRbjK-"
      },
      "execution_count": 148,
      "outputs": []
    }
  ]
}
